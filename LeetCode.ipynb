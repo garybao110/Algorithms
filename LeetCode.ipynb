{
 "cells": [
  {
   "cell_type": "markdown",
   "metadata": {},
   "source": [
    "## Environment\n",
    "* conda create --prefix ./venv python=3.8  (prefix specify the venv under the current folder)\n",
    "* conda activate ./venv\n",
    "* conda deactivate\n"
   ]
  },
  {
   "cell_type": "markdown",
   "metadata": {},
   "source": [
    "# Easy\n",
    "## 1. Longest Common Prefix (14)\n",
    "Write a function to find the longest common prefix string amongst an array of strings.\n",
    "\n",
    "If there is no common prefix, return an empty string \"\".\n",
    "\n",
    " \n",
    "\n",
    "Example 1:\n",
    "\n",
    "        Input: strs = [\"flower\",\"flow\",\"flight\"]\n",
    "        Output: \"fl\"\n",
    "\n",
    "Example 2:\n",
    "\n",
    "        Input: strs = [\"dog\",\"racecar\",\"car\"]\n",
    "        Output: \"\"\n",
    "        Explanation: There is no common prefix among the input strings.\n",
    "\n",
    " \n",
    "\n",
    "Constraints:\n",
    "\n",
    "* 1 <= strs.length <= 200\n",
    "* 0 <= strs[i].length <= 200\n",
    "* strs[i] consists of only lowercase English letters if it is non-empty.\n",
    "\n"
   ]
  },
  {
   "cell_type": "code",
   "execution_count": 15,
   "metadata": {},
   "outputs": [
    {
     "name": "stdout",
     "output_type": "stream",
     "text": [
      "fl\n",
      "\n"
     ]
    }
   ],
   "source": [
    "# version 1\n",
    "def lcp(strs):\n",
    "    # strs is empty\n",
    "    if not strs:\n",
    "        return \"\"\n",
    "    \n",
    "    # Start with the first string as the prefix\n",
    "    prefix = strs[0]\n",
    "\n",
    "    # Iterate through the rest of the strings\n",
    "    for i in range(1, len(strs)):\n",
    "        # If prefix is not found in strs[i]\n",
    "        if strs[i].find(prefix) == -1: \n",
    "            # Remove one character from the end of prefix repeatedly until it's found in strs[i]\n",
    "            while prefix:\n",
    "                # Shorten the prefix by removing one character\n",
    "                prefix = prefix[:-1]\n",
    "                # Check if the new prefix is at the start of strs[i]\n",
    "                if strs[i].find(prefix) == 0:\n",
    "                    break\n",
    "            # prefix is empty\n",
    "            if not prefix:\n",
    "                return prefix\n",
    "    return prefix\n",
    "    \n",
    "# test case 1\n",
    "strs = [\"flower\", \"flow\", \"flight\"]\n",
    "prefix = lcp(strs)\n",
    "print(prefix)\n",
    "\n",
    "# test case 2\n",
    "strs = [\"dog\", \"racecar\", \"car\"]\n",
    "prefix = lcp(strs)\n",
    "print(prefix)"
   ]
  },
  {
   "cell_type": "code",
   "execution_count": 25,
   "metadata": {},
   "outputs": [
    {
     "name": "stdout",
     "output_type": "stream",
     "text": [
      "fl\n",
      "\n"
     ]
    }
   ],
   "source": [
    "# version 2\n",
    "def lcp(strs):\n",
    "    # if the input list is empty, return empty\n",
    "    if not strs:\n",
    "        return \"\"\n",
    "    \n",
    "    # Start with the first str as prefix\n",
    "    prefix = strs[0]\n",
    "\n",
    "    # \n",
    "    for string in strs[1:]:\n",
    "        # compare the current string with the curren prefix\n",
    "        while not string.startswith(prefix):\n",
    "            prefix = prefix[:-1] # keep reduce the prefix \n",
    "            if not prefix: # if prefix become empty, return it immediately \n",
    "                return \"\" \n",
    "    return prefix \n",
    "\n",
    "# test case 1\n",
    "strs = [\"flower\", \"flow\", \"flight\"]\n",
    "prefix = lcp(strs)\n",
    "print(prefix)\n",
    "\n",
    "# test case 2\n",
    "strs = [\"dog\", \"racecar\", \"car\"]\n",
    "prefix = lcp(strs)\n",
    "print(prefix)"
   ]
  },
  {
   "cell_type": "markdown",
   "metadata": {},
   "source": [
    "### Summary of Complexities:\n",
    "* Time Complexity: O(n * m), where:\n",
    "\n",
    "    * n is the number of strings in the list.\n",
    "    * m is the length of the longest string in the list.\n",
    "* Space Complexity: O(m), where m is the length of the longest string, due to the storage of the prefix variable.\n",
    "\n",
    "This is an efficient solution for the problem since the time complexity scales linearly with the number of strings and the length of the longest string, which is optimal for this kind of problem."
   ]
  },
  {
   "cell_type": "markdown",
   "metadata": {},
   "source": [
    "## Linked list in Python"
   ]
  },
  {
   "cell_type": "code",
   "execution_count": 28,
   "metadata": {},
   "outputs": [],
   "source": [
    "class Node:\n",
    "    def __init__(self, value):\n",
    "        self.value = value\n",
    "        self.next = None\n",
    "\n",
    "class LinkedList:\n",
    "    def __init__(self):\n",
    "        self.head = None # Initially, the list is empty\n",
    "\n",
    "    # Insert a new node at the end of the list\n",
    "    def append(self, value):\n",
    "        new_node = Node(value)\n",
    "        if not self.head:\n",
    "            self.head = new_node \n",
    "        else:\n",
    "            current = self.head\n",
    "            # traverse to the last node\n",
    "            while current.next:  \n",
    "                current = current.next\n",
    "            current.next = new_node \n",
    "    \n",
    "    # Print the linked list\n",
    "    def print_list(self):\n",
    "        current = self.head\n",
    "        while current:\n",
    "            print(current.value, end = \" -> \")\n",
    "            current = current.next\n",
    "        print(\"None\")"
   ]
  },
  {
   "cell_type": "code",
   "execution_count": 29,
   "metadata": {},
   "outputs": [
    {
     "name": "stdout",
     "output_type": "stream",
     "text": [
      "1 -> 2 -> 3 -> 4 -> None\n"
     ]
    }
   ],
   "source": [
    "## Test cases\n",
    "ll = LinkedList()\n",
    "ll.append(1)\n",
    "ll.append(2)\n",
    "ll.append(3)\n",
    "ll.append(4)\n",
    "ll.print_list()"
   ]
  },
  {
   "cell_type": "markdown",
   "metadata": {},
   "source": [
    "## 2. 21. Merge Two Sorted Lists\n",
    "\n",
    "You are given the heads of two sorted linked lists list1 and list2.\n",
    "\n",
    "Merge the two lists into one sorted list. The list should be made by splicing together the nodes of the first two lists.\n",
    "\n",
    "Return the head of the merged linked list.\n",
    "\n",
    "\n",
    "Example 1:\n",
    "Input: list1 = [1,2,4], list2 = [1,3,4]\n",
    "\n",
    "Output: [1,1,2,3,4,4]\n",
    "\n",
    "Example 2:\n",
    "Input: list1 = [], list2 = []\n",
    "\n",
    "Output: []\n",
    "\n",
    "Example 3:\n",
    "\n",
    "Input: list1 = [], list2 = [0]\n",
    "\n",
    "Output: [0]\n",
    "\n",
    "Constraints:\n",
    "\n",
    "* The number of nodes in both lists is in the range [0, 50].\n",
    "* -100 <= Node.val <= 100\n",
    "* Both list1 and list2 are sorted in non-decreasing order.\n"
   ]
  },
  {
   "cell_type": "code",
   "execution_count": 8,
   "metadata": {},
   "outputs": [
    {
     "name": "stdout",
     "output_type": "stream",
     "text": [
      "[1, 1, 2, 3, 3, 4]\n"
     ]
    }
   ],
   "source": [
    "class Node:\n",
    "    def __init__(self, val=0, next=None):\n",
    "        self.val = val \n",
    "        self.next = next\n",
    "\n",
    "def Create_Linked_List(list):\n",
    "    current = Node()\n",
    "    dummy = current\n",
    "    for v in list:\n",
    "        current.next = Node(val=v)\n",
    "        current = current.next \n",
    "    return dummy.next \n",
    "\n",
    "def print_linked_list(list):\n",
    "    result = []\n",
    "    while list:\n",
    "        result.append(list.val)\n",
    "        list = list.next\n",
    "    return result\n",
    "\n",
    "    \n",
    "\n",
    "def MergeList(list1, list2):\n",
    "\n",
    "    current = Node()\n",
    "    dummy = current\n",
    "\n",
    "    while list1 and list2: # first value in the linked list\n",
    "        if list1.val < list2.val:\n",
    "            current.next = list1 \n",
    "            list1 = list1.next\n",
    "        else:\n",
    "            current.next = list2 \n",
    "            list2 = list2.next\n",
    "        current = current.next\n",
    "    \n",
    "    if list1:\n",
    "        current.next = list1\n",
    "    if list2:\n",
    "        current.next = list2 \n",
    "    return dummy.next\n",
    "\n",
    "list1 = Create_Linked_List([1,2,3])\n",
    "list2 = Create_Linked_List([1,3,4])\n",
    "\n",
    "merged_list = MergeList(list1, list2)\n",
    "\n",
    "print(print_linked_list(merged_list))\n",
    "\n",
    "\n",
    "    \n"
   ]
  },
  {
   "cell_type": "markdown",
   "metadata": {},
   "source": [
    "### Note:\n",
    "list1 and list2 below are just variable names referring to the first node in two different linked lists.\n",
    "\n",
    "They hold references (or pointers) to those first nodes, not the entire lists themselves (like a Python list would)."
   ]
  },
  {
   "cell_type": "code",
   "execution_count": 7,
   "metadata": {},
   "outputs": [
    {
     "name": "stdout",
     "output_type": "stream",
     "text": [
      "<__main__.ListNode object at 0x112068fd0>\n",
      "1\n",
      "<__main__.ListNode object at 0x1120689a0>\n",
      "2\n",
      "4\n",
      "None\n"
     ]
    }
   ],
   "source": [
    "# Definition for singly-linked list.\n",
    "class ListNode:\n",
    "    def __init__(self, val=0, next=None):\n",
    "        self.val = val\n",
    "        self.next = next\n",
    "\n",
    "def create_linked_list(lst):\n",
    "    dummy = ListNode()\n",
    "    current = dummy\n",
    "    for val in lst:\n",
    "        current.next = ListNode(val)\n",
    "        current = current.next\n",
    "    return dummy.next\n",
    "\n",
    "list1 = create_linked_list([1, 2, 4])\n",
    "list2 = create_linked_list([1, 3, 4])\n",
    "\n",
    "print(list1)\n",
    "print(list1.val)\n",
    "print(list1.next)\n",
    "print(list1.next.val)\n",
    "print(list1.next.next.val)\n",
    "print(list1.next.next.next)"
   ]
  },
  {
   "cell_type": "code",
   "execution_count": 31,
   "metadata": {},
   "outputs": [
    {
     "name": "stdout",
     "output_type": "stream",
     "text": [
      "[1, 1, 2, 3, 4, 4]\n",
      "[]\n",
      "[0]\n"
     ]
    }
   ],
   "source": [
    "# Definition for singly-linked list.\n",
    "class ListNode:\n",
    "    def __init__(self, val=0, next=None):\n",
    "        self.val = val\n",
    "        self.next = next\n",
    "\n",
    "def mergeTwoLists(list1: ListNode, list2: ListNode) -> ListNode:\n",
    "    # Create a dummy node to simplify handling the head of the merged list\n",
    "    dummy = ListNode()\n",
    "    current = dummy\n",
    "    \n",
    "    # Traverse both lists\n",
    "    while list1 and list2:\n",
    "        if list1.val < list2.val:\n",
    "            current.next = list1\n",
    "            list1 = list1.next\n",
    "        else:\n",
    "            current.next = list2\n",
    "            list2 = list2.next\n",
    "        \n",
    "        current = current.next\n",
    "    \n",
    "    # If any of the lists still have remaining nodes, attach them\n",
    "    if list1:\n",
    "        current.next = list1\n",
    "    else:\n",
    "        current.next = list2\n",
    "    \n",
    "    # Return the merged list, starting from the next of the dummy node\n",
    "    return dummy.next\n",
    "\n",
    "# Utility function to create a linked list from a Python list\n",
    "def create_linked_list(lst):\n",
    "    dummy = ListNode()\n",
    "    current = dummy\n",
    "    for val in lst:\n",
    "        current.next = ListNode(val)\n",
    "        current = current.next\n",
    "    return dummy.next\n",
    "\n",
    "# Utility function to print a linked list as a Python list\n",
    "def print_linked_list(head):\n",
    "    result = []\n",
    "    while head:\n",
    "        result.append(head.val)\n",
    "        head = head.next\n",
    "    return result\n",
    "\n",
    "# Test cases\n",
    "list1 = create_linked_list([1, 2, 4])\n",
    "list2 = create_linked_list([1, 3, 4])\n",
    "\n",
    "merged_list = mergeTwoLists(list1, list2)\n",
    "print(print_linked_list(merged_list))  # Output: [1, 1, 2, 3, 4, 4]\n",
    "\n",
    "list1 = create_linked_list([])\n",
    "list2 = create_linked_list([])\n",
    "\n",
    "merged_list = mergeTwoLists(list1, list2)\n",
    "print(print_linked_list(merged_list))  # Output: []\n",
    "\n",
    "list1 = create_linked_list([])\n",
    "list2 = create_linked_list([0])\n",
    "\n",
    "merged_list = mergeTwoLists(list1, list2)\n",
    "print(print_linked_list(merged_list))  # Output: [0]\n"
   ]
  },
  {
   "cell_type": "markdown",
   "metadata": {},
   "source": [
    "## 13 Roman to Integer\n",
    "Roman numerals are represented by seven different symbols: I, V, X, L, C, D and M.\n",
    "\n",
    "Symbol       Value\n",
    "I             1\n",
    "V             5\n",
    "X             10\n",
    "L             50\n",
    "C             100\n",
    "D             500\n",
    "M             1000\n",
    "For example, 2 is written as II in Roman numeral, just two ones added together. 12 is written as XII, which is simply X + II. The number 27 is written as XXVII, which is XX + V + II.\n",
    "\n",
    "Roman numerals are usually written largest to smallest from left to right. However, the numeral for four is not IIII. Instead, the number four is written as IV. Because the one is before the five we subtract it making four. The same principle applies to the number nine, which is written as IX. There are six instances where subtraction is used:\n",
    "\n",
    "I can be placed before V (5) and X (10) to make 4 and 9. \n",
    "X can be placed before L (50) and C (100) to make 40 and 90. \n",
    "C can be placed before D (500) and M (1000) to make 400 and 900.\n",
    "Given a roman numeral, convert it to an integer.\n",
    "\n",
    " \n",
    "\n",
    "Example 1:\n",
    "\n",
    "Input: s = \"III\"\n",
    "Output: 3\n",
    "Explanation: III = 3.\n",
    "Example 2:\n",
    "\n",
    "Input: s = \"LVIII\"\n",
    "Output: 58\n",
    "Explanation: L = 50, V= 5, III = 3.\n",
    "Example 3:\n",
    "\n",
    "Input: s = \"MCMXCIV\"\n",
    "Output: 1994\n",
    "Explanation: M = 1000, CM = 900, XC = 90 and IV = 4.\n",
    " \n",
    "\n",
    "Constraints:\n",
    "\n",
    "1 <= s.length <= 15\n",
    "s contains only the characters ('I', 'V', 'X', 'L', 'C', 'D', 'M').\n",
    "It is guaranteed that s is a valid roman numeral in the range [1, 3999]."
   ]
  },
  {
   "cell_type": "code",
   "execution_count": null,
   "metadata": {},
   "outputs": [],
   "source": []
  },
  {
   "cell_type": "markdown",
   "metadata": {},
   "source": [
    "## 28Implement strStr()\n",
    "Given two strings needle and haystack, return the index of the first occurrence of needle in haystack, or -1 if needle is not part of haystack.\n",
    "\n",
    " \n",
    "\n",
    "Example 1:\n",
    "\n",
    "Input: haystack = \"sadbutsad\", needle = \"sad\"\n",
    "\n",
    "Output: 0\n",
    "\n",
    "Explanation: \"sad\" occurs at index 0 and 6.\n",
    "\n",
    "The first occurrence is at index 0, so we return 0.\n",
    "\n",
    "Example 2:\n",
    "\n",
    "Input: haystack = \"leetcode\", needle = \"leeto\"\n",
    "\n",
    "Output: -1\n",
    "\n",
    "Explanation: \"leeto\" did not occur in \"leetcode\", so we return -1.\n",
    "\n",
    " \n",
    "\n",
    "Constraints:\n",
    "\n",
    "1 <= haystack.length, needle.length <= 104\n",
    "\n",
    "haystack and needle consist of only lowercase English characters."
   ]
  },
  {
   "cell_type": "code",
   "execution_count": 21,
   "metadata": {},
   "outputs": [
    {
     "data": {
      "text/plain": [
       "'go'"
      ]
     },
     "execution_count": 21,
     "metadata": {},
     "output_type": "execute_result"
    }
   ],
   "source": [
    "a = \"good\"\n",
    "len(a)\n",
    "a[0:2]"
   ]
  },
  {
   "cell_type": "code",
   "execution_count": 22,
   "metadata": {},
   "outputs": [
    {
     "name": "stdout",
     "output_type": "stream",
     "text": [
      "0\n",
      "-1\n"
     ]
    }
   ],
   "source": [
    "# two for loops; one is for haystack, one for needle;stop when found otherwise, start from a new index of hystack\n",
    "\n",
    "def search_needle_old(haystack, needle):\n",
    "    if len(needle) >len(haystack) :\n",
    "        return -1\n",
    "    haystack_lst = list(haystack)\n",
    "    needle_lst = list(needle)\n",
    "    print(haystack_lst, needle_lst)\n",
    "\n",
    "    match_flage = True \n",
    "    for i in range(len(haystack_lst) - len(needle_lst) + 1):\n",
    "        for j in range(len(needle_lst)):\n",
    "            print(needle_lst[j], haystack_lst[i+j])\n",
    "            if needle_lst[j] != haystack_lst[i+j]:\n",
    "                match_flage = False\n",
    "                break\n",
    "\n",
    "        if j == len(needle_lst) - 1 and match_flage:\n",
    "            return i\n",
    "    return -1\n",
    "\n",
    "def search_needle(haystack, needle):\n",
    "    for i in range(len(haystack) - len(needle) + 1):\n",
    "        if haystack[i: i+len(needle)] == needle:\n",
    "            return i\n",
    "    return -1\n",
    "\n",
    "# test\n",
    "haystack = \"sadbutsad\" \n",
    "needle = \"sad\"\n",
    "print(search_needle(haystack, needle))\n",
    "\n",
    "haystack = \"leetcode\"\n",
    "needle = \"leeto\"\n",
    "print(search_needle(haystack, needle))"
   ]
  },
  {
   "cell_type": "markdown",
   "metadata": {},
   "source": [
    "## 67. Add Binary\n",
    "Given two binary strings a and b, return their sum as a binary string.\n",
    "\n",
    " \n",
    "\n",
    "Example 1:\n",
    "\n",
    "Input: a = \"11\", b = \"1\"\n",
    "\n",
    "Output: \"100\"\n",
    "\n",
    "Example 2:\n",
    "\n",
    "Input: a = \"1010\", b = \"1011\"\n",
    "\n",
    "Output: \"10101\"\n",
    "\n",
    " \n",
    "\n",
    "Constraints:\n",
    "\n",
    "    1 <= a.length, b.length <= 104\n",
    "\n",
    "    a and b consist only of '0' or '1' characters.\n",
    "    \n",
    "    Each string does not contain leading zeros except for the zero itself.\n",
    "\n"
   ]
  },
  {
   "cell_type": "code",
   "execution_count": 37,
   "metadata": {},
   "outputs": [
    {
     "data": {
      "text/plain": [
       "10"
      ]
     },
     "execution_count": 37,
     "metadata": {},
     "output_type": "execute_result"
    }
   ],
   "source": [
    "21 //2"
   ]
  },
  {
   "cell_type": "code",
   "execution_count": 41,
   "metadata": {},
   "outputs": [
    {
     "name": "stdout",
     "output_type": "stream",
     "text": [
      "100\n",
      "10101\n",
      "1\n",
      "101100\n",
      "111100\n"
     ]
    }
   ],
   "source": [
    "def AddBinary(a, b):\n",
    "    i, j = len(a) - 1, len(b) - 1\n",
    "    carry = 0\n",
    "    result = []\n",
    "\n",
    "    while i >=0 or j >= 0 or carry:\n",
    "        a_i = int(a[i]) if i>=0 else 0\n",
    "        b_j = int(b[j]) if j >=0 else 0\n",
    "\n",
    "        i -= 1\n",
    "        j -= 1\n",
    "\n",
    "        sum = a_i + b_j + carry\n",
    "        result.append(str(sum % 2))\n",
    "        carry = sum // 2\n",
    "    \n",
    "    return(\"\".join(result[::-1]))\n",
    "\n",
    "# test\n",
    "a = '11'\n",
    "b = '1'\n",
    "print(AddBinary(a, b))\n",
    "\n",
    "a = '1010'\n",
    "b = '1011'\n",
    "print(AddBinary(a, b))\n",
    "\n",
    "\n",
    "a = '1'\n",
    "b = '0'\n",
    "print(AddBinary(a, b))\n",
    "\n",
    "a = '10101'\n",
    "b = '10111'\n",
    "print(AddBinary(a, b))\n",
    "a = '11101'\n",
    "b = '11111'\n",
    "print(AddBinary(a, b))\n",
    "\n"
   ]
  },
  {
   "cell_type": "code",
   "execution_count": 34,
   "metadata": {},
   "outputs": [
    {
     "name": "stdout",
     "output_type": "stream",
     "text": [
      "100\n",
      "10101\n",
      "1\n",
      "101100\n",
      "11100\n"
     ]
    }
   ],
   "source": [
    "# this is mine, and has error\n",
    "def binary_add(a, b):\n",
    "    tmp = str(int(a) + int(b))\n",
    "    increase_flag = False\n",
    "    result = []\n",
    "    for item in tmp[::-1]:\n",
    "        if int(item) < 2 and not increase_flag:\n",
    "            result.append(item)\n",
    "        if item == \"0\" and increase_flag:\n",
    "            result.append('1')\n",
    "            increase_flag = False\n",
    "        if item==\"1\" and increase_flag:\n",
    "            result.append('0')\n",
    "            increase_flag = True\n",
    "        \n",
    "        if item==\"2\":\n",
    "            if not increase_flag:\n",
    "                result.append('0')\n",
    "                increase_flag = True\n",
    "            else:\n",
    "                result.append(\"1\")\n",
    "                increase_flag = True\n",
    "    \n",
    "    if result[-1] == \"0\":\n",
    "        result.append(\"1\")\n",
    "    \n",
    "    return \"\".join(result[::-1])\n",
    "\n",
    "\n",
    "# test\n",
    "a = '11'\n",
    "b = '1'\n",
    "print(binary_add(a, b))\n",
    "\n",
    "a = '1010'\n",
    "b = '1011'\n",
    "print(binary_add(a, b))\n",
    "\n",
    "\n",
    "a = '1'\n",
    "b = '0'\n",
    "print(binary_add(a, b))\n",
    "\n",
    "a = '10101'\n",
    "b = '10111'\n",
    "print(binary_add(a, b))\n",
    "a = '11101'\n",
    "b = '11111'\n",
    "print(binary_add(a, b))\n",
    "\n",
    "\n"
   ]
  },
  {
   "cell_type": "markdown",
   "metadata": {},
   "source": [
    "## 20. Valid Parentheses\n",
    "Given a string s containing just the characters '(', ')', '{', '}', '[' and ']', determine if the input string is valid.\n",
    "\n",
    "An input string is valid if:\n",
    "\n",
    "    Open brackets must be closed by the same type of brackets.\n",
    "\n",
    "    Open brackets must be closed in the correct order.\n",
    "    \n",
    "    Every close bracket has a corresponding open bracket of the same type.\n",
    "\n",
    " \n",
    "\n",
    "Example 1:\n",
    "\n",
    "Input: s = \"()\"\n",
    "\n",
    "Output: true\n",
    "\n",
    "Example 2:\n",
    "\n",
    "Input: s = \"()[]{}\"\n",
    "\n",
    "Output: true\n",
    "\n",
    "Example 3:\n",
    "\n",
    "Input: s = \"(]\"\n",
    "\n",
    "Output: false\n",
    "\n",
    "Example 4:\n",
    "\n",
    "Input: s = \"([])\"\n",
    "\n",
    "Output: true\n",
    "\n",
    " \n",
    "\n",
    "Constraints:\n",
    "\n",
    "    1 <= s.length <= 104\n",
    "    s consists of parentheses only '()[]{}'.\n",
    "\n"
   ]
  },
  {
   "cell_type": "code",
   "execution_count": 50,
   "metadata": {},
   "outputs": [
    {
     "data": {
      "text/plain": [
       "False"
      ]
     },
     "execution_count": 50,
     "metadata": {},
     "output_type": "execute_result"
    }
   ],
   "source": [
    "stack = [1]\n",
    "not stack"
   ]
  },
  {
   "cell_type": "code",
   "execution_count": 52,
   "metadata": {},
   "outputs": [
    {
     "name": "stdout",
     "output_type": "stream",
     "text": [
      "True\n",
      "True\n",
      "False\n",
      "True\n",
      "False\n",
      "True\n"
     ]
    }
   ],
   "source": [
    "# using stack as it first come last out, only put the first part of bracket in, like \"(\", \"{\"\n",
    "# using a map to match, key are the second part of braket, like \")\", \"}\"\n",
    "def valid_brackets(s):\n",
    "    bracket_map = {\")\" : \"(\",  \"}\" : \"{\",  \"]\" : \"[\"}\n",
    "    stack = []\n",
    "\n",
    "    for str in s:\n",
    "        if str in bracket_map:\n",
    "            top_str = stack.pop() if stack else \"#\"\n",
    "            if bracket_map[str] != top_str:\n",
    "                return False\n",
    "        else:\n",
    "            stack.append(str)\n",
    "    \n",
    "    return(not stack)\n",
    "\n",
    "\n",
    "# Test cases\n",
    "print(valid_brackets(\"()\"))        # Output: True\n",
    "print(valid_brackets(\"()[]{}\"))    # Output: True\n",
    "print(valid_brackets(\"(]\"))        # Output: False\n",
    "print(valid_brackets(\"([])\"))      # Output: True\n",
    "print(valid_brackets(\"([)]\"))      # Output: False\n",
    "print(valid_brackets(\"{[]}\"))      # Output: True\n",
    "\n",
    "\n",
    "def isValid(s: str) -> bool:\n",
    "    # A dictionary to store the mapping of closing to opening brackets\n",
    "    bracket_map = {')': '(', '}': '{', ']': '['}\n",
    "    stack = []\n",
    "    \n",
    "    # Traverse the string\n",
    "    for char in s:\n",
    "        if char in bracket_map:\n",
    "            # If it's a closing bracket, pop from the stack if possible\n",
    "            top_element = stack.pop() if stack else '#'\n",
    "            # If the top element doesn't match the expected opening bracket, return False\n",
    "            if bracket_map[char] != top_element:\n",
    "                return False\n",
    "        else:\n",
    "            # If it's an opening bracket, push to the stack\n",
    "            stack.append(char)\n",
    "    \n",
    "    # If the stack is empty, all opening brackets had matching closing brackets\n",
    "    return not stack\n",
    "\n",
    "# Test cases\n",
    "print(isValid(\"()\"))        # Output: True\n",
    "print(isValid(\"()[]{}\"))    # Output: True\n",
    "print(isValid(\"(]\"))        # Output: False\n",
    "print(isValid(\"([])\"))      # Output: True\n",
    "print(isValid(\"([)]\"))      # Output: False\n",
    "print(isValid(\"{[]}\"))      # Output: True\n"
   ]
  },
  {
   "cell_type": "markdown",
   "metadata": {},
   "source": []
  },
  {
   "cell_type": "markdown",
   "metadata": {},
   "source": [
    "# Medium"
   ]
  },
  {
   "cell_type": "markdown",
   "metadata": {},
   "source": [
    "# Hard"
   ]
  },
  {
   "cell_type": "markdown",
   "metadata": {},
   "source": []
  }
 ],
 "metadata": {
  "kernelspec": {
   "display_name": "Python 3",
   "language": "python",
   "name": "python3"
  },
  "language_info": {
   "codemirror_mode": {
    "name": "ipython",
    "version": 3
   },
   "file_extension": ".py",
   "mimetype": "text/x-python",
   "name": "python",
   "nbconvert_exporter": "python",
   "pygments_lexer": "ipython3",
   "version": "3.8.20"
  }
 },
 "nbformat": 4,
 "nbformat_minor": 2
}
