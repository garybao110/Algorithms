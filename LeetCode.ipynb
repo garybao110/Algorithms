{
 "cells": [
  {
   "cell_type": "markdown",
   "metadata": {},
   "source": [
    "## Environment\n",
    "* conda create --prefix ./venv python=3.8  (prefix specify the venv under the current folder)\n",
    "* conda activate ./venv\n",
    "* conda deactivate\n"
   ]
  },
  {
   "cell_type": "markdown",
   "metadata": {},
   "source": [
    "# Easy\n",
    "## 1. Longest Common Prefix (14)\n",
    "Write a function to find the longest common prefix string amongst an array of strings.\n",
    "\n",
    "If there is no common prefix, return an empty string \"\".\n",
    "\n",
    " \n",
    "\n",
    "Example 1:\n",
    "\n",
    "        Input: strs = [\"flower\",\"flow\",\"flight\"]\n",
    "        Output: \"fl\"\n",
    "\n",
    "Example 2:\n",
    "\n",
    "        Input: strs = [\"dog\",\"racecar\",\"car\"]\n",
    "        Output: \"\"\n",
    "        Explanation: There is no common prefix among the input strings.\n",
    "\n",
    " \n",
    "\n",
    "Constraints:\n",
    "\n",
    "* 1 <= strs.length <= 200\n",
    "* 0 <= strs[i].length <= 200\n",
    "* strs[i] consists of only lowercase English letters if it is non-empty.\n",
    "\n"
   ]
  },
  {
   "cell_type": "code",
   "execution_count": 15,
   "metadata": {},
   "outputs": [
    {
     "name": "stdout",
     "output_type": "stream",
     "text": [
      "fl\n",
      "\n"
     ]
    }
   ],
   "source": [
    "# version 1\n",
    "def lcp(strs):\n",
    "    # strs is empty\n",
    "    if not strs:\n",
    "        return \"\"\n",
    "    \n",
    "    # Start with the first string as the prefix\n",
    "    prefix = strs[0]\n",
    "\n",
    "    # Iterate through the rest of the strings\n",
    "    for i in range(1, len(strs)):\n",
    "        # If prefix is not found in strs[i]\n",
    "        if strs[i].find(prefix) == -1: \n",
    "            # Remove one character from the end of prefix repeatedly until it's found in strs[i]\n",
    "            while prefix:\n",
    "                # Shorten the prefix by removing one character\n",
    "                prefix = prefix[:-1]\n",
    "                # Check if the new prefix is at the start of strs[i]\n",
    "                if strs[i].find(prefix) == 0:\n",
    "                    break\n",
    "            # prefix is empty\n",
    "            if not prefix:\n",
    "                return prefix\n",
    "    return prefix\n",
    "    \n",
    "# test case 1\n",
    "strs = [\"flower\", \"flow\", \"flight\"]\n",
    "prefix = lcp(strs)\n",
    "print(prefix)\n",
    "\n",
    "# test case 2\n",
    "strs = [\"dog\", \"racecar\", \"car\"]\n",
    "prefix = lcp(strs)\n",
    "print(prefix)"
   ]
  },
  {
   "cell_type": "code",
   "execution_count": 25,
   "metadata": {},
   "outputs": [
    {
     "name": "stdout",
     "output_type": "stream",
     "text": [
      "fl\n",
      "\n"
     ]
    }
   ],
   "source": [
    "# version 2\n",
    "def lcp(strs):\n",
    "    # if the input list is empty, return empty\n",
    "    if not strs:\n",
    "        return \"\"\n",
    "    \n",
    "    # Start with the first str as prefix\n",
    "    prefix = strs[0]\n",
    "\n",
    "    # \n",
    "    for string in strs[1:]:\n",
    "        # compare the current string with the curren prefix\n",
    "        while not string.startswith(prefix):\n",
    "            prefix = prefix[:-1] # keep reduce the prefix \n",
    "            if not prefix: # if prefix become empty, return it immediately \n",
    "                return \"\" \n",
    "    return prefix \n",
    "\n",
    "# test case 1\n",
    "strs = [\"flower\", \"flow\", \"flight\"]\n",
    "prefix = lcp(strs)\n",
    "print(prefix)\n",
    "\n",
    "# test case 2\n",
    "strs = [\"dog\", \"racecar\", \"car\"]\n",
    "prefix = lcp(strs)\n",
    "print(prefix)"
   ]
  },
  {
   "cell_type": "markdown",
   "metadata": {},
   "source": [
    "### Summary of Complexities:\n",
    "* Time Complexity: O(n * m), where:\n",
    "\n",
    "    * n is the number of strings in the list.\n",
    "    * m is the length of the longest string in the list.\n",
    "* Space Complexity: O(m), where m is the length of the longest string, due to the storage of the prefix variable.\n",
    "\n",
    "This is an efficient solution for the problem since the time complexity scales linearly with the number of strings and the length of the longest string, which is optimal for this kind of problem."
   ]
  },
  {
   "cell_type": "code",
   "execution_count": 21,
   "metadata": {},
   "outputs": [
    {
     "data": {
      "text/plain": [
       "False"
      ]
     },
     "execution_count": 21,
     "metadata": {},
     "output_type": "execute_result"
    }
   ],
   "source": [
    "\"flower\".startswith(\"flow2e\")"
   ]
  },
  {
   "cell_type": "markdown",
   "metadata": {},
   "source": [
    "# Medium"
   ]
  },
  {
   "cell_type": "markdown",
   "metadata": {},
   "source": [
    "# Hard"
   ]
  },
  {
   "cell_type": "markdown",
   "metadata": {},
   "source": []
  }
 ],
 "metadata": {
  "kernelspec": {
   "display_name": "Python 3",
   "language": "python",
   "name": "python3"
  },
  "language_info": {
   "codemirror_mode": {
    "name": "ipython",
    "version": 3
   },
   "file_extension": ".py",
   "mimetype": "text/x-python",
   "name": "python",
   "nbconvert_exporter": "python",
   "pygments_lexer": "ipython3",
   "version": "3.8.20"
  }
 },
 "nbformat": 4,
 "nbformat_minor": 2
}
